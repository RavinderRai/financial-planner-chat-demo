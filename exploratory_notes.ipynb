{
 "cells": [
  {
   "cell_type": "markdown",
   "metadata": {},
   "source": [
    "# Financial Planner Chat UI"
   ]
  },
  {
   "cell_type": "markdown",
   "metadata": {},
   "source": [
    "## Data Cleaning"
   ]
  },
  {
   "cell_type": "code",
   "execution_count": 48,
   "metadata": {},
   "outputs": [],
   "source": [
    "import pandas as pd"
   ]
  },
  {
   "cell_type": "code",
   "execution_count": 49,
   "metadata": {},
   "outputs": [],
   "source": [
    "orig_df = pd.read_csv('../data/Canadian-Advice-Only-Financial-Planner-Schema.csv', header=2)"
   ]
  },
  {
   "cell_type": "code",
   "execution_count": 50,
   "metadata": {},
   "outputs": [
    {
     "data": {
      "text/plain": [
       "(140, 29)"
      ]
     },
     "execution_count": 50,
     "metadata": {},
     "output_type": "execute_result"
    }
   ],
   "source": [
    "orig_df.shape"
   ]
  },
  {
   "cell_type": "code",
   "execution_count": 51,
   "metadata": {},
   "outputs": [
    {
     "data": {
      "text/html": [
       "<div>\n",
       "<style scoped>\n",
       "    .dataframe tbody tr th:only-of-type {\n",
       "        vertical-align: middle;\n",
       "    }\n",
       "\n",
       "    .dataframe tbody tr th {\n",
       "        vertical-align: top;\n",
       "    }\n",
       "\n",
       "    .dataframe thead th {\n",
       "        text-align: right;\n",
       "    }\n",
       "</style>\n",
       "<table border=\"1\" class=\"dataframe\">\n",
       "  <thead>\n",
       "    <tr style=\"text-align: right;\">\n",
       "      <th></th>\n",
       "      <th>first_name</th>\n",
       "      <th>middle_name</th>\n",
       "      <th>last_name</th>\n",
       "      <th>company</th>\n",
       "      <th>email</th>\n",
       "      <th>provinces_served</th>\n",
       "      <th>phone</th>\n",
       "      <th>specialties</th>\n",
       "      <th>project_fee_low</th>\n",
       "      <th>project_fee_high</th>\n",
       "      <th>...</th>\n",
       "      <th>city\\n</th>\n",
       "      <th>province_of_residence</th>\n",
       "      <th>certification</th>\n",
       "      <th>university_degree</th>\n",
       "      <th>professional_body</th>\n",
       "      <th>fee_model</th>\n",
       "      <th>lead_time_weeks</th>\n",
       "      <th>firm_scale</th>\n",
       "      <th>years_experience</th>\n",
       "      <th>pic</th>\n",
       "    </tr>\n",
       "  </thead>\n",
       "  <tbody>\n",
       "    <tr>\n",
       "      <th>0</th>\n",
       "      <td>Allan</td>\n",
       "      <td>NaN</td>\n",
       "      <td>Buckingham</td>\n",
       "      <td>Outdoor Life Planning</td>\n",
       "      <td>Allan@OutdoorLifePlanning.ca</td>\n",
       "      <td>All</td>\n",
       "      <td>NaN</td>\n",
       "      <td>NaN</td>\n",
       "      <td>300.0</td>\n",
       "      <td>2300.0</td>\n",
       "      <td>...</td>\n",
       "      <td>NaN</td>\n",
       "      <td>Alberta</td>\n",
       "      <td>NaN</td>\n",
       "      <td>NaN</td>\n",
       "      <td>NaN</td>\n",
       "      <td>Advice-only</td>\n",
       "      <td>NaN</td>\n",
       "      <td>NaN</td>\n",
       "      <td>NaN</td>\n",
       "      <td>NaN</td>\n",
       "    </tr>\n",
       "    <tr>\n",
       "      <th>1</th>\n",
       "      <td>Barbara</td>\n",
       "      <td>NaN</td>\n",
       "      <td>Knoblach</td>\n",
       "      <td>Money Coaches Canada</td>\n",
       "      <td>barbara@moneycoachescanada.ca</td>\n",
       "      <td>All</td>\n",
       "      <td>NaN</td>\n",
       "      <td>business owner planning, corporate planning, m...</td>\n",
       "      <td>4000.0</td>\n",
       "      <td>10000.0</td>\n",
       "      <td>...</td>\n",
       "      <td>NaN</td>\n",
       "      <td>Alberta</td>\n",
       "      <td>NaN</td>\n",
       "      <td>NaN</td>\n",
       "      <td>NaN</td>\n",
       "      <td>Advice-only</td>\n",
       "      <td>NaN</td>\n",
       "      <td>NaN</td>\n",
       "      <td>NaN</td>\n",
       "      <td>NaN</td>\n",
       "    </tr>\n",
       "    <tr>\n",
       "      <th>2</th>\n",
       "      <td>Diane</td>\n",
       "      <td>NaN</td>\n",
       "      <td>Dekanic</td>\n",
       "      <td>Financial Health Management</td>\n",
       "      <td>ddekanic@fhminc.ca</td>\n",
       "      <td>Not QC</td>\n",
       "      <td>NaN</td>\n",
       "      <td>tax prep and filing</td>\n",
       "      <td>2500.0</td>\n",
       "      <td>NaN</td>\n",
       "      <td>...</td>\n",
       "      <td>NaN</td>\n",
       "      <td>Alberta</td>\n",
       "      <td>NaN</td>\n",
       "      <td>NaN</td>\n",
       "      <td>NaN</td>\n",
       "      <td>Advice-only</td>\n",
       "      <td>NaN</td>\n",
       "      <td>NaN</td>\n",
       "      <td>NaN</td>\n",
       "      <td>NaN</td>\n",
       "    </tr>\n",
       "  </tbody>\n",
       "</table>\n",
       "<p>3 rows × 29 columns</p>\n",
       "</div>"
      ],
      "text/plain": [
       "  first_name middle_name   last_name                      company  \\\n",
       "0      Allan         NaN  Buckingham        Outdoor Life Planning   \n",
       "1    Barbara         NaN    Knoblach         Money Coaches Canada   \n",
       "2      Diane         NaN     Dekanic  Financial Health Management   \n",
       "\n",
       "                           email provinces_served  phone  \\\n",
       "0   Allan@OutdoorLifePlanning.ca              All    NaN   \n",
       "1  barbara@moneycoachescanada.ca              All    NaN   \n",
       "2             ddekanic@fhminc.ca           Not QC    NaN   \n",
       "\n",
       "                                         specialties  project_fee_low  \\\n",
       "0                                                NaN            300.0   \n",
       "1  business owner planning, corporate planning, m...           4000.0   \n",
       "2                                tax prep and filing           2500.0   \n",
       "\n",
       "   project_fee_high  ...  city\\n  province_of_residence  certification  \\\n",
       "0            2300.0  ...     NaN                Alberta            NaN   \n",
       "1           10000.0  ...     NaN                Alberta            NaN   \n",
       "2               NaN  ...     NaN                Alberta            NaN   \n",
       "\n",
       "   university_degree  professional_body    fee_model lead_time_weeks  \\\n",
       "0                NaN                NaN  Advice-only             NaN   \n",
       "1                NaN                NaN  Advice-only             NaN   \n",
       "2                NaN                NaN  Advice-only             NaN   \n",
       "\n",
       "  firm_scale  years_experience pic  \n",
       "0        NaN               NaN NaN  \n",
       "1        NaN               NaN NaN  \n",
       "2        NaN               NaN NaN  \n",
       "\n",
       "[3 rows x 29 columns]"
      ]
     },
     "execution_count": 51,
     "metadata": {},
     "output_type": "execute_result"
    }
   ],
   "source": [
    "orig_df.head(3)"
   ]
  },
  {
   "cell_type": "markdown",
   "metadata": {},
   "source": [
    "Removing all irrelevant rows and columns."
   ]
  },
  {
   "cell_type": "code",
   "execution_count": 52,
   "metadata": {},
   "outputs": [
    {
     "data": {
      "text/html": [
       "<div>\n",
       "<style scoped>\n",
       "    .dataframe tbody tr th:only-of-type {\n",
       "        vertical-align: middle;\n",
       "    }\n",
       "\n",
       "    .dataframe tbody tr th {\n",
       "        vertical-align: top;\n",
       "    }\n",
       "\n",
       "    .dataframe thead th {\n",
       "        text-align: right;\n",
       "    }\n",
       "</style>\n",
       "<table border=\"1\" class=\"dataframe\">\n",
       "  <thead>\n",
       "    <tr style=\"text-align: right;\">\n",
       "      <th></th>\n",
       "      <th>first_name</th>\n",
       "      <th>middle_name</th>\n",
       "      <th>last_name</th>\n",
       "      <th>company</th>\n",
       "      <th>email</th>\n",
       "      <th>provinces_served</th>\n",
       "      <th>phone</th>\n",
       "      <th>specialties</th>\n",
       "      <th>project_fee_low</th>\n",
       "      <th>project_fee_high</th>\n",
       "      <th>...</th>\n",
       "      <th>city\\n</th>\n",
       "      <th>province_of_residence</th>\n",
       "      <th>certification</th>\n",
       "      <th>university_degree</th>\n",
       "      <th>professional_body</th>\n",
       "      <th>fee_model</th>\n",
       "      <th>lead_time_weeks</th>\n",
       "      <th>firm_scale</th>\n",
       "      <th>years_experience</th>\n",
       "      <th>pic</th>\n",
       "    </tr>\n",
       "  </thead>\n",
       "  <tbody>\n",
       "    <tr>\n",
       "      <th>0</th>\n",
       "      <td>Allan</td>\n",
       "      <td>NaN</td>\n",
       "      <td>Buckingham</td>\n",
       "      <td>Outdoor Life Planning</td>\n",
       "      <td>Allan@OutdoorLifePlanning.ca</td>\n",
       "      <td>All</td>\n",
       "      <td>NaN</td>\n",
       "      <td>NaN</td>\n",
       "      <td>300.0</td>\n",
       "      <td>2300.0</td>\n",
       "      <td>...</td>\n",
       "      <td>NaN</td>\n",
       "      <td>Alberta</td>\n",
       "      <td>NaN</td>\n",
       "      <td>NaN</td>\n",
       "      <td>NaN</td>\n",
       "      <td>Advice-only</td>\n",
       "      <td>NaN</td>\n",
       "      <td>NaN</td>\n",
       "      <td>NaN</td>\n",
       "      <td>NaN</td>\n",
       "    </tr>\n",
       "    <tr>\n",
       "      <th>1</th>\n",
       "      <td>Barbara</td>\n",
       "      <td>NaN</td>\n",
       "      <td>Knoblach</td>\n",
       "      <td>Money Coaches Canada</td>\n",
       "      <td>barbara@moneycoachescanada.ca</td>\n",
       "      <td>All</td>\n",
       "      <td>NaN</td>\n",
       "      <td>business owner planning, corporate planning, m...</td>\n",
       "      <td>4000.0</td>\n",
       "      <td>10000.0</td>\n",
       "      <td>...</td>\n",
       "      <td>NaN</td>\n",
       "      <td>Alberta</td>\n",
       "      <td>NaN</td>\n",
       "      <td>NaN</td>\n",
       "      <td>NaN</td>\n",
       "      <td>Advice-only</td>\n",
       "      <td>NaN</td>\n",
       "      <td>NaN</td>\n",
       "      <td>NaN</td>\n",
       "      <td>NaN</td>\n",
       "    </tr>\n",
       "    <tr>\n",
       "      <th>2</th>\n",
       "      <td>Diane</td>\n",
       "      <td>NaN</td>\n",
       "      <td>Dekanic</td>\n",
       "      <td>Financial Health Management</td>\n",
       "      <td>ddekanic@fhminc.ca</td>\n",
       "      <td>Not QC</td>\n",
       "      <td>NaN</td>\n",
       "      <td>tax prep and filing</td>\n",
       "      <td>2500.0</td>\n",
       "      <td>NaN</td>\n",
       "      <td>...</td>\n",
       "      <td>NaN</td>\n",
       "      <td>Alberta</td>\n",
       "      <td>NaN</td>\n",
       "      <td>NaN</td>\n",
       "      <td>NaN</td>\n",
       "      <td>Advice-only</td>\n",
       "      <td>NaN</td>\n",
       "      <td>NaN</td>\n",
       "      <td>NaN</td>\n",
       "      <td>NaN</td>\n",
       "    </tr>\n",
       "    <tr>\n",
       "      <th>3</th>\n",
       "      <td>Drew</td>\n",
       "      <td>NaN</td>\n",
       "      <td>Adamick</td>\n",
       "      <td>Divergent Financial Planning</td>\n",
       "      <td>info@divergentfp.ca</td>\n",
       "      <td>Not QC</td>\n",
       "      <td>NaN</td>\n",
       "      <td>estate planning, disability planning, LGBTQAI2...</td>\n",
       "      <td>1000.0</td>\n",
       "      <td>5000.0</td>\n",
       "      <td>...</td>\n",
       "      <td>NaN</td>\n",
       "      <td>Alberta</td>\n",
       "      <td>NaN</td>\n",
       "      <td>NaN</td>\n",
       "      <td>NaN</td>\n",
       "      <td>Advice-only</td>\n",
       "      <td>NaN</td>\n",
       "      <td>NaN</td>\n",
       "      <td>NaN</td>\n",
       "      <td>NaN</td>\n",
       "    </tr>\n",
       "    <tr>\n",
       "      <th>4</th>\n",
       "      <td>Jane</td>\n",
       "      <td>NaN</td>\n",
       "      <td>Bolstad</td>\n",
       "      <td>Trusted Financial Planning</td>\n",
       "      <td>jane@trustedfinancialplanning.com</td>\n",
       "      <td>Alberta, British Columbia, Saskatchewan</td>\n",
       "      <td>NaN</td>\n",
       "      <td>NaN</td>\n",
       "      <td>2000.0</td>\n",
       "      <td>NaN</td>\n",
       "      <td>...</td>\n",
       "      <td>NaN</td>\n",
       "      <td>Alberta</td>\n",
       "      <td>NaN</td>\n",
       "      <td>NaN</td>\n",
       "      <td>NaN</td>\n",
       "      <td>Advice-only</td>\n",
       "      <td>NaN</td>\n",
       "      <td>NaN</td>\n",
       "      <td>NaN</td>\n",
       "      <td>NaN</td>\n",
       "    </tr>\n",
       "  </tbody>\n",
       "</table>\n",
       "<p>5 rows × 29 columns</p>\n",
       "</div>"
      ],
      "text/plain": [
       "  first_name middle_name   last_name                       company  \\\n",
       "0      Allan         NaN  Buckingham         Outdoor Life Planning   \n",
       "1    Barbara         NaN    Knoblach          Money Coaches Canada   \n",
       "2      Diane         NaN     Dekanic   Financial Health Management   \n",
       "3       Drew         NaN     Adamick  Divergent Financial Planning   \n",
       "4       Jane         NaN     Bolstad    Trusted Financial Planning   \n",
       "\n",
       "                               email                         provinces_served  \\\n",
       "0       Allan@OutdoorLifePlanning.ca                                      All   \n",
       "1      barbara@moneycoachescanada.ca                                      All   \n",
       "2                 ddekanic@fhminc.ca                                   Not QC   \n",
       "3                info@divergentfp.ca                                   Not QC   \n",
       "4  jane@trustedfinancialplanning.com  Alberta, British Columbia, Saskatchewan   \n",
       "\n",
       "   phone                                        specialties  project_fee_low  \\\n",
       "0    NaN                                                NaN            300.0   \n",
       "1    NaN  business owner planning, corporate planning, m...           4000.0   \n",
       "2    NaN                                tax prep and filing           2500.0   \n",
       "3    NaN  estate planning, disability planning, LGBTQAI2...           1000.0   \n",
       "4    NaN                                                NaN           2000.0   \n",
       "\n",
       "   project_fee_high  ...  city\\n  province_of_residence  certification  \\\n",
       "0            2300.0  ...     NaN                Alberta            NaN   \n",
       "1           10000.0  ...     NaN                Alberta            NaN   \n",
       "2               NaN  ...     NaN                Alberta            NaN   \n",
       "3            5000.0  ...     NaN                Alberta            NaN   \n",
       "4               NaN  ...     NaN                Alberta            NaN   \n",
       "\n",
       "   university_degree  professional_body    fee_model lead_time_weeks  \\\n",
       "0                NaN                NaN  Advice-only             NaN   \n",
       "1                NaN                NaN  Advice-only             NaN   \n",
       "2                NaN                NaN  Advice-only             NaN   \n",
       "3                NaN                NaN  Advice-only             NaN   \n",
       "4                NaN                NaN  Advice-only             NaN   \n",
       "\n",
       "  firm_scale  years_experience pic  \n",
       "0        NaN               NaN NaN  \n",
       "1        NaN               NaN NaN  \n",
       "2        NaN               NaN NaN  \n",
       "3        NaN               NaN NaN  \n",
       "4        NaN               NaN NaN  \n",
       "\n",
       "[5 rows x 29 columns]"
      ]
     },
     "execution_count": 52,
     "metadata": {},
     "output_type": "execute_result"
    }
   ],
   "source": [
    "df = orig_df.iloc[:73, :]\n",
    "df.head()"
   ]
  },
  {
   "cell_type": "markdown",
   "metadata": {},
   "source": [
    "Some columns are completely empty, let's remove them."
   ]
  },
  {
   "cell_type": "code",
   "execution_count": 53,
   "metadata": {},
   "outputs": [
    {
     "name": "stdout",
     "output_type": "stream",
     "text": [
      "10\n"
     ]
    },
    {
     "data": {
      "text/plain": [
       "Index(['phone', 'dob', 'city\\n', 'certification', 'university_degree',\n",
       "       'professional_body', 'lead_time_weeks', 'firm_scale',\n",
       "       'years_experience', 'pic'],\n",
       "      dtype='object')"
      ]
     },
     "execution_count": 53,
     "metadata": {},
     "output_type": "execute_result"
    }
   ],
   "source": [
    "null_columns = df.columns[df.isnull().all()]\n",
    "print(len(null_columns))\n",
    "null_columns"
   ]
  },
  {
   "cell_type": "code",
   "execution_count": 54,
   "metadata": {},
   "outputs": [
    {
     "data": {
      "text/html": [
       "<div>\n",
       "<style scoped>\n",
       "    .dataframe tbody tr th:only-of-type {\n",
       "        vertical-align: middle;\n",
       "    }\n",
       "\n",
       "    .dataframe tbody tr th {\n",
       "        vertical-align: top;\n",
       "    }\n",
       "\n",
       "    .dataframe thead th {\n",
       "        text-align: right;\n",
       "    }\n",
       "</style>\n",
       "<table border=\"1\" class=\"dataframe\">\n",
       "  <thead>\n",
       "    <tr style=\"text-align: right;\">\n",
       "      <th></th>\n",
       "      <th>first_name</th>\n",
       "      <th>middle_name</th>\n",
       "      <th>last_name</th>\n",
       "      <th>company</th>\n",
       "      <th>email</th>\n",
       "      <th>provinces_served</th>\n",
       "      <th>specialties</th>\n",
       "      <th>project_fee_low</th>\n",
       "      <th>project_fee_high</th>\n",
       "      <th>monthly_fee_low</th>\n",
       "      <th>monthly_fee_high</th>\n",
       "      <th>hourly_fee</th>\n",
       "      <th>yearly_fee_low</th>\n",
       "      <th>yearly_fee_high</th>\n",
       "      <th>Website</th>\n",
       "      <th>Notes</th>\n",
       "      <th>target_clients</th>\n",
       "      <th>province_of_residence</th>\n",
       "      <th>fee_model</th>\n",
       "    </tr>\n",
       "  </thead>\n",
       "  <tbody>\n",
       "    <tr>\n",
       "      <th>0</th>\n",
       "      <td>Allan</td>\n",
       "      <td>NaN</td>\n",
       "      <td>Buckingham</td>\n",
       "      <td>Outdoor Life Planning</td>\n",
       "      <td>Allan@OutdoorLifePlanning.ca</td>\n",
       "      <td>All</td>\n",
       "      <td>NaN</td>\n",
       "      <td>300.0</td>\n",
       "      <td>2300.0</td>\n",
       "      <td>25.0</td>\n",
       "      <td>175.0</td>\n",
       "      <td>NaN</td>\n",
       "      <td>NaN</td>\n",
       "      <td>NaN</td>\n",
       "      <td>https://www.outdoorlifeplanning.ca/</td>\n",
       "      <td>Does outdoor focused lifestyle</td>\n",
       "      <td>NaN</td>\n",
       "      <td>Alberta</td>\n",
       "      <td>Advice-only</td>\n",
       "    </tr>\n",
       "    <tr>\n",
       "      <th>1</th>\n",
       "      <td>Barbara</td>\n",
       "      <td>NaN</td>\n",
       "      <td>Knoblach</td>\n",
       "      <td>Money Coaches Canada</td>\n",
       "      <td>barbara@moneycoachescanada.ca</td>\n",
       "      <td>All</td>\n",
       "      <td>business owner planning, corporate planning, m...</td>\n",
       "      <td>4000.0</td>\n",
       "      <td>10000.0</td>\n",
       "      <td>NaN</td>\n",
       "      <td>NaN</td>\n",
       "      <td>NaN</td>\n",
       "      <td>NaN</td>\n",
       "      <td>NaN</td>\n",
       "      <td>https://moneycoachescanada.ca/about/Barbara-kn...</td>\n",
       "      <td>NaN</td>\n",
       "      <td>NaN</td>\n",
       "      <td>Alberta</td>\n",
       "      <td>Advice-only</td>\n",
       "    </tr>\n",
       "    <tr>\n",
       "      <th>2</th>\n",
       "      <td>Diane</td>\n",
       "      <td>NaN</td>\n",
       "      <td>Dekanic</td>\n",
       "      <td>Financial Health Management</td>\n",
       "      <td>ddekanic@fhminc.ca</td>\n",
       "      <td>Not QC</td>\n",
       "      <td>tax prep and filing</td>\n",
       "      <td>2500.0</td>\n",
       "      <td>NaN</td>\n",
       "      <td>NaN</td>\n",
       "      <td>NaN</td>\n",
       "      <td>250.0</td>\n",
       "      <td>NaN</td>\n",
       "      <td>NaN</td>\n",
       "      <td>http://www.fhminc.ca/</td>\n",
       "      <td>NaN</td>\n",
       "      <td>NaN</td>\n",
       "      <td>Alberta</td>\n",
       "      <td>Advice-only</td>\n",
       "    </tr>\n",
       "    <tr>\n",
       "      <th>3</th>\n",
       "      <td>Drew</td>\n",
       "      <td>NaN</td>\n",
       "      <td>Adamick</td>\n",
       "      <td>Divergent Financial Planning</td>\n",
       "      <td>info@divergentfp.ca</td>\n",
       "      <td>Not QC</td>\n",
       "      <td>estate planning, disability planning, LGBTQAI2...</td>\n",
       "      <td>1000.0</td>\n",
       "      <td>5000.0</td>\n",
       "      <td>NaN</td>\n",
       "      <td>NaN</td>\n",
       "      <td>NaN</td>\n",
       "      <td>NaN</td>\n",
       "      <td>NaN</td>\n",
       "      <td>https://www.divergentfp.ca/</td>\n",
       "      <td>NaN</td>\n",
       "      <td>NaN</td>\n",
       "      <td>Alberta</td>\n",
       "      <td>Advice-only</td>\n",
       "    </tr>\n",
       "    <tr>\n",
       "      <th>4</th>\n",
       "      <td>Jane</td>\n",
       "      <td>NaN</td>\n",
       "      <td>Bolstad</td>\n",
       "      <td>Trusted Financial Planning</td>\n",
       "      <td>jane@trustedfinancialplanning.com</td>\n",
       "      <td>Alberta, British Columbia, Saskatchewan</td>\n",
       "      <td>NaN</td>\n",
       "      <td>2000.0</td>\n",
       "      <td>NaN</td>\n",
       "      <td>NaN</td>\n",
       "      <td>NaN</td>\n",
       "      <td>175.0</td>\n",
       "      <td>NaN</td>\n",
       "      <td>NaN</td>\n",
       "      <td>https://www.thefinancialhandyman.ca/</td>\n",
       "      <td>NaN</td>\n",
       "      <td>NaN</td>\n",
       "      <td>Alberta</td>\n",
       "      <td>Advice-only</td>\n",
       "    </tr>\n",
       "  </tbody>\n",
       "</table>\n",
       "</div>"
      ],
      "text/plain": [
       "  first_name middle_name   last_name                       company  \\\n",
       "0      Allan         NaN  Buckingham         Outdoor Life Planning   \n",
       "1    Barbara         NaN    Knoblach          Money Coaches Canada   \n",
       "2      Diane         NaN     Dekanic   Financial Health Management   \n",
       "3       Drew         NaN     Adamick  Divergent Financial Planning   \n",
       "4       Jane         NaN     Bolstad    Trusted Financial Planning   \n",
       "\n",
       "                               email                         provinces_served  \\\n",
       "0       Allan@OutdoorLifePlanning.ca                                      All   \n",
       "1      barbara@moneycoachescanada.ca                                      All   \n",
       "2                 ddekanic@fhminc.ca                                   Not QC   \n",
       "3                info@divergentfp.ca                                   Not QC   \n",
       "4  jane@trustedfinancialplanning.com  Alberta, British Columbia, Saskatchewan   \n",
       "\n",
       "                                         specialties  project_fee_low  \\\n",
       "0                                                NaN            300.0   \n",
       "1  business owner planning, corporate planning, m...           4000.0   \n",
       "2                                tax prep and filing           2500.0   \n",
       "3  estate planning, disability planning, LGBTQAI2...           1000.0   \n",
       "4                                                NaN           2000.0   \n",
       "\n",
       "   project_fee_high  monthly_fee_low  monthly_fee_high  hourly_fee  \\\n",
       "0            2300.0             25.0             175.0         NaN   \n",
       "1           10000.0              NaN               NaN         NaN   \n",
       "2               NaN              NaN               NaN       250.0   \n",
       "3            5000.0              NaN               NaN         NaN   \n",
       "4               NaN              NaN               NaN       175.0   \n",
       "\n",
       "   yearly_fee_low  yearly_fee_high  \\\n",
       "0             NaN              NaN   \n",
       "1             NaN              NaN   \n",
       "2             NaN              NaN   \n",
       "3             NaN              NaN   \n",
       "4             NaN              NaN   \n",
       "\n",
       "                                             Website  \\\n",
       "0                https://www.outdoorlifeplanning.ca/   \n",
       "1  https://moneycoachescanada.ca/about/Barbara-kn...   \n",
       "2                              http://www.fhminc.ca/   \n",
       "3                        https://www.divergentfp.ca/   \n",
       "4               https://www.thefinancialhandyman.ca/   \n",
       "\n",
       "                            Notes target_clients province_of_residence  \\\n",
       "0  Does outdoor focused lifestyle            NaN               Alberta   \n",
       "1                             NaN            NaN               Alberta   \n",
       "2                             NaN            NaN               Alberta   \n",
       "3                             NaN            NaN               Alberta   \n",
       "4                             NaN            NaN               Alberta   \n",
       "\n",
       "     fee_model  \n",
       "0  Advice-only  \n",
       "1  Advice-only  \n",
       "2  Advice-only  \n",
       "3  Advice-only  \n",
       "4  Advice-only  "
      ]
     },
     "execution_count": 54,
     "metadata": {},
     "output_type": "execute_result"
    }
   ],
   "source": [
    "non_empty_columns = [col for col in list(df.columns) if col not in null_columns]\n",
    "df = df[non_empty_columns]\n",
    "df.head()"
   ]
  },
  {
   "cell_type": "code",
   "execution_count": 55,
   "metadata": {},
   "outputs": [
    {
     "data": {
      "text/plain": [
       "(73, 19)"
      ]
     },
     "execution_count": 55,
     "metadata": {},
     "output_type": "execute_result"
    }
   ],
   "source": [
    "df.shape"
   ]
  },
  {
   "cell_type": "code",
   "execution_count": 56,
   "metadata": {},
   "outputs": [],
   "source": [
    "df = df.reset_index(drop=True)"
   ]
  },
  {
   "cell_type": "code",
   "execution_count": 57,
   "metadata": {},
   "outputs": [
    {
     "name": "stdout",
     "output_type": "stream",
     "text": [
      "first_name                object\n",
      "middle_name               object\n",
      "last_name                 object\n",
      "company                   object\n",
      "email                     object\n",
      "provinces_served          object\n",
      "specialties               object\n",
      "project_fee_low          float64\n",
      "project_fee_high         float64\n",
      "monthly_fee_low          float64\n",
      "monthly_fee_high         float64\n",
      "hourly_fee               float64\n",
      "yearly_fee_low           float64\n",
      "yearly_fee_high          float64\n",
      "Website                   object\n",
      "Notes                     object\n",
      "target_clients            object\n",
      "province_of_residence     object\n",
      "fee_model                 object\n",
      "dtype: object\n"
     ]
    }
   ],
   "source": [
    "print(df.dtypes)"
   ]
  },
  {
   "cell_type": "code",
   "execution_count": 58,
   "metadata": {},
   "outputs": [
    {
     "name": "stdout",
     "output_type": "stream",
     "text": [
      "RangeIndex(start=0, stop=73, step=1)\n"
     ]
    }
   ],
   "source": [
    "print(df.index)"
   ]
  },
  {
   "cell_type": "code",
   "execution_count": 59,
   "metadata": {},
   "outputs": [],
   "source": [
    "df.to_csv('../data/financial_demo_data.csv', index=False)"
   ]
  },
  {
   "cell_type": "markdown",
   "metadata": {},
   "source": [
    "## Chatting with Data"
   ]
  },
  {
   "cell_type": "code",
   "execution_count": 60,
   "metadata": {},
   "outputs": [],
   "source": [
    "import pandasai"
   ]
  },
  {
   "cell_type": "code",
   "execution_count": 1,
   "metadata": {},
   "outputs": [],
   "source": [
    "import pandas as pd"
   ]
  },
  {
   "cell_type": "code",
   "execution_count": 2,
   "metadata": {},
   "outputs": [],
   "source": [
    "from langchain.document_loaders import CSVLoader\n",
    "from langchain.indexes import VectorstoreIndexCreator\n",
    "from langchain.chains import RetrievalQA\n",
    "from langchain.llms import OpenAI\n",
    "import os\n",
    "     "
   ]
  },
  {
   "cell_type": "code",
   "execution_count": 3,
   "metadata": {},
   "outputs": [],
   "source": [
    "from langchain_community.utilities import SQLDatabase\n",
    "from sqlalchemy import create_engine"
   ]
  },
  {
   "cell_type": "code",
   "execution_count": 4,
   "metadata": {},
   "outputs": [
    {
     "data": {
      "text/plain": [
       "True"
      ]
     },
     "execution_count": 4,
     "metadata": {},
     "output_type": "execute_result"
    }
   ],
   "source": [
    "from dotenv import load_dotenv, find_dotenv\n",
    "\n",
    "load_dotenv(find_dotenv())"
   ]
  },
  {
   "cell_type": "code",
   "execution_count": 6,
   "metadata": {},
   "outputs": [],
   "source": [
    "df = pd.read_csv('financial_demo_data.csv')"
   ]
  },
  {
   "cell_type": "code",
   "execution_count": 7,
   "metadata": {},
   "outputs": [],
   "source": [
    "engine = create_engine(\"sqlite:///financial_demo_data.db\")\n",
    "#df.to_sql(\"financial_demo_data\", engine, index=False)"
   ]
  },
  {
   "cell_type": "code",
   "execution_count": 8,
   "metadata": {},
   "outputs": [
    {
     "name": "stdout",
     "output_type": "stream",
     "text": [
      "sqlite\n",
      "['financial_demo_data']\n"
     ]
    },
    {
     "data": {
      "text/plain": [
       "\"[('Allan', None, 'Buckingham', 'Outdoor Life Planning', 'Allan@OutdoorLifePlanning.ca', 'All', None, 300.0, 2300.0, 25.0, 175.0, None, None, None, 'https://www.outdoorlifeplanning.ca/', 'Does outdoor focused lifestyle', None, 'Alberta', 'Advice-only'), ('Barbara', None, 'Knoblach', 'Money Coaches Canada', 'barbara@moneycoachescanada.ca', 'All', 'business owner planning, corporate planning, medical professionals', 4000.0, 10000.0, None, None, None, None, None, 'https://moneycoachescanada.ca/about/Barbara-knoblach', None, None, 'Alberta', 'Advice-only'), ('Diane', None, 'Dekanic', 'Financial Health Management', 'ddekanic@fhminc.ca', 'Not QC', 'tax prep and filing', 2500.0, None, None, None, 250.0, None, None, 'http://www.fhminc.ca/', None, None, 'Alberta', 'Advice-only'), ('Drew', None, 'Adamick', 'Divergent Financial Planning', 'info@divergentfp.ca', 'Not QC', 'estate planning, disability planning, LGBTQAI2S+ Households', 1000.0, 5000.0, None, None, None, None, None, 'https://www.divergentfp.ca/', None, None, 'Alberta', 'Advice-only'), ('Jane', None, 'Bolstad', 'Trusted Financial Planning', 'jane@trustedfinancialplanning.com', 'Alberta, British Columbia, Saskatchewan', None, 2000.0, None, None, None, 175.0, None, None, 'https://www.thefinancialhandyman.ca/', None, None, 'Alberta', 'Advice-only'), ('John', None, 'Jakobs', 'Jakobs Financial', 'john.jakobs5@gmail.com', 'Not QC', 'small clients', 500.0, 1000.0, None, None, None, None, None, 'https://jakobs-finance.blogspot.com/', None, None, 'Alberta', 'Advice-only'), ('Kenneth', None, 'Doll', 'Alberta Financial Planner', 'Ken@AlbertaFinancialPlanner.ca', 'Not QC', 'trusts, estate planning, cross-border planning, corporate planning, pro athletes', 3000.0, 6000.0, None, None, None, None, None, 'https://AlbertaFinancialPlanner.ca', None, None, 'Alberta', 'Advice-only'), ('Robb', None, 'Engen', 'Boomer & Echo', 'robbengen@gmail.com', 'All', 'Cash flow management, Debt Management', 2400.0, 2700.0, None, None, None, None, None, 'https://boomerandecho.com/fee-only-advice/', None, None, 'Alberta', 'Advice-only'), ('Ron', None, 'Graham', 'Ron Graham and Associates', 'info@rgafinancial.com', 'Not QC', 'tax prep and filing', 550.0, 3300.0, None, None, None, None, None, 'https://rgafinancial.com/', None, None, 'Alberta', 'Advice-only'), ('Russ', None, 'Dyck', 'Finovo Financial Planning', 'russ@finovo.ca', 'Not QC', 'self-employed', 1000.0, 4500.0, None, None, None, None, None, 'https://finovo.ca/', None, 'small-business owners, self-employed', 'Alberta', 'Advice-only'), ('Spencer', None, 'Mellace', 'Experience Financial', 'spencer@experiencefcc.com', 'Not QC', 'business owner planning, corporate planning, estate planning, family business', 10000.0, None, None, None, None, None, None, 'http://www.experiencefcc.com/', None, None, 'Alberta', 'Advice-only'), ('Tom', None, 'Feigs', 'Money Coaches Canada', 'tom@moneycoachescanada.ca', 'Not QC', 'corporate planning, self-employed', 2500.0, 7000.0, None, None, None, None, None, 'https://moneycoachescanada.ca/about/Tom-Feigs/', None, 'small-business owners, self-employed', 'Alberta', 'Advice-only'), ('Val', None, 'Kumagai', 'Money Coaches Canada', 'val@moneycoachescanada.ca', 'Not QC', 'corporate planning, self-employed', 3500.0, 8000.0, None, None, None, None, None, 'https://moneycoachescanada.ca/about/Val-Kumagai/', None, 'small-business owners, self-employed', 'Alberta', 'Advice-only')]\""
      ]
     },
     "execution_count": 8,
     "metadata": {},
     "output_type": "execute_result"
    }
   ],
   "source": [
    "db = SQLDatabase(engine=engine)\n",
    "print(db.dialect)\n",
    "print(db.get_usable_table_names())\n",
    "db.run(\"SELECT * FROM financial_demo_data WHERE province_of_residence = 'Alberta';\")"
   ]
  },
  {
   "cell_type": "code",
   "execution_count": 9,
   "metadata": {},
   "outputs": [],
   "source": [
    "OPENAI_API_KEY = os.environ[\"OPENAI_API_KEY\"]"
   ]
  },
  {
   "cell_type": "code",
   "execution_count": 10,
   "metadata": {},
   "outputs": [],
   "source": [
    "loader = CSVLoader('financial_demo_data.csv')"
   ]
  },
  {
   "cell_type": "code",
   "execution_count": 11,
   "metadata": {},
   "outputs": [],
   "source": [
    "from langchain_community.agent_toolkits import create_sql_agent\n",
    "from langchain_openai import ChatOpenAI\n",
    "\n",
    "llm = ChatOpenAI(model=\"gpt-3.5-turbo\", temperature=0, streaming=True)\n",
    "agent_executor = create_sql_agent(llm, db=db, agent_type=\"openai-tools\", verbose=True)"
   ]
  },
  {
   "cell_type": "code",
   "execution_count": 12,
   "metadata": {},
   "outputs": [
    {
     "name": "stdout",
     "output_type": "stream",
     "text": [
      "\n",
      "\n",
      "\u001b[1m> Entering new SQL Agent Executor chain...\u001b[0m\n",
      "\u001b[32;1m\u001b[1;3m\n",
      "Invoking: `sql_db_list_tables` with `{}`\n",
      "\n",
      "\n",
      "\u001b[0m\u001b[38;5;200m\u001b[1;3mfinancial_demo_data\u001b[0m\u001b[32;1m\u001b[1;3m\n",
      "Invoking: `sql_db_schema` with `{'table_names': 'financial_demo_data'}`\n",
      "\n",
      "\n",
      "\u001b[0m\u001b[33;1m\u001b[1;3m\n",
      "CREATE TABLE financial_demo_data (\n",
      "\tfirst_name TEXT, \n",
      "\tmiddle_name TEXT, \n",
      "\tlast_name TEXT, \n",
      "\tcompany TEXT, \n",
      "\temail TEXT, \n",
      "\tprovinces_served TEXT, \n",
      "\tspecialties TEXT, \n",
      "\tproject_fee_low FLOAT, \n",
      "\tproject_fee_high FLOAT, \n",
      "\tmonthly_fee_low FLOAT, \n",
      "\tmonthly_fee_high FLOAT, \n",
      "\thourly_fee FLOAT, \n",
      "\tyearly_fee_low FLOAT, \n",
      "\tyearly_fee_high FLOAT, \n",
      "\t\"Website\" TEXT, \n",
      "\t\"Notes\" TEXT, \n",
      "\ttarget_clients TEXT, \n",
      "\tprovince_of_residence TEXT, \n",
      "\tfee_model TEXT\n",
      ")\n",
      "\n",
      "/*\n",
      "3 rows from financial_demo_data table:\n",
      "first_name\tmiddle_name\tlast_name\tcompany\temail\tprovinces_served\tspecialties\tproject_fee_low\tproject_fee_high\tmonthly_fee_low\tmonthly_fee_high\thourly_fee\tyearly_fee_low\tyearly_fee_high\tWebsite\tNotes\ttarget_clients\tprovince_of_residence\tfee_model\n",
      "Allan\tNone\tBuckingham\tOutdoor Life Planning\tAllan@OutdoorLifePlanning.ca\tAll\tNone\t300.0\t2300.0\t25.0\t175.0\tNone\tNone\tNone\thttps://www.outdoorlifeplanning.ca/\tDoes outdoor focused lifestyle\tNone\tAlberta\tAdvice-only\n",
      "Barbara\tNone\tKnoblach\tMoney Coaches Canada\tbarbara@moneycoachescanada.ca\tAll\tbusiness owner planning, corporate planning, medical professionals\t4000.0\t10000.0\tNone\tNone\tNone\tNone\tNone\thttps://moneycoachescanada.ca/about/Barbara-knoblach\tNone\tNone\tAlberta\tAdvice-only\n",
      "Diane\tNone\tDekanic\tFinancial Health Management\tddekanic@fhminc.ca\tNot QC\ttax prep and filing\t2500.0\tNone\tNone\tNone\t250.0\tNone\tNone\thttp://www.fhminc.ca/\tNone\tNone\tAlberta\tAdvice-only\n",
      "*/\u001b[0m\u001b[32;1m\u001b[1;3m\n",
      "Invoking: `sql_db_query` with `{'query': \"SELECT email FROM financial_demo_data WHERE first_name = 'Allan' AND last_name = 'Buckingham'\"}`\n",
      "\n",
      "\n",
      "\u001b[0m\u001b[36;1m\u001b[1;3m[('Allan@OutdoorLifePlanning.ca',)]\u001b[0m\u001b[32;1m\u001b[1;3mAllan Buckingham's email is Allan@OutdoorLifePlanning.ca.\u001b[0m\n",
      "\n",
      "\u001b[1m> Finished chain.\u001b[0m\n"
     ]
    },
    {
     "data": {
      "text/plain": [
       "{'input': \"what's Allan Buckingham's email?\",\n",
       " 'output': \"Allan Buckingham's email is Allan@OutdoorLifePlanning.ca.\"}"
      ]
     },
     "execution_count": 12,
     "metadata": {},
     "output_type": "execute_result"
    }
   ],
   "source": [
    "agent_executor.invoke({\"input\": \"what's Allan Buckingham's email?\"})"
   ]
  },
  {
   "cell_type": "markdown",
   "metadata": {},
   "source": [
    "# Revisions"
   ]
  },
  {
   "cell_type": "code",
   "execution_count": 81,
   "metadata": {},
   "outputs": [],
   "source": [
    "import pandas as pd"
   ]
  },
  {
   "cell_type": "code",
   "execution_count": 2,
   "metadata": {},
   "outputs": [
    {
     "data": {
      "text/html": [
       "<div>\n",
       "<style scoped>\n",
       "    .dataframe tbody tr th:only-of-type {\n",
       "        vertical-align: middle;\n",
       "    }\n",
       "\n",
       "    .dataframe tbody tr th {\n",
       "        vertical-align: top;\n",
       "    }\n",
       "\n",
       "    .dataframe thead th {\n",
       "        text-align: right;\n",
       "    }\n",
       "</style>\n",
       "<table border=\"1\" class=\"dataframe\">\n",
       "  <thead>\n",
       "    <tr style=\"text-align: right;\">\n",
       "      <th></th>\n",
       "      <th>first_name</th>\n",
       "      <th>middle_name</th>\n",
       "      <th>last_name</th>\n",
       "      <th>company</th>\n",
       "      <th>email</th>\n",
       "      <th>provinces_served</th>\n",
       "      <th>specialties</th>\n",
       "      <th>project_fee_low</th>\n",
       "      <th>project_fee_high</th>\n",
       "      <th>monthly_fee_low</th>\n",
       "      <th>monthly_fee_high</th>\n",
       "      <th>hourly_fee</th>\n",
       "      <th>yearly_fee_low</th>\n",
       "      <th>yearly_fee_high</th>\n",
       "      <th>Website</th>\n",
       "      <th>Notes</th>\n",
       "      <th>target_clients</th>\n",
       "      <th>province_of_residence</th>\n",
       "      <th>fee_model</th>\n",
       "    </tr>\n",
       "  </thead>\n",
       "  <tbody>\n",
       "    <tr>\n",
       "      <th>0</th>\n",
       "      <td>Allan</td>\n",
       "      <td>NaN</td>\n",
       "      <td>Buckingham</td>\n",
       "      <td>Outdoor Life Planning</td>\n",
       "      <td>Allan@OutdoorLifePlanning.ca</td>\n",
       "      <td>All</td>\n",
       "      <td>NaN</td>\n",
       "      <td>300.0</td>\n",
       "      <td>2300.0</td>\n",
       "      <td>25.0</td>\n",
       "      <td>175.0</td>\n",
       "      <td>NaN</td>\n",
       "      <td>NaN</td>\n",
       "      <td>NaN</td>\n",
       "      <td>https://www.outdoorlifeplanning.ca/</td>\n",
       "      <td>Does outdoor focused lifestyle</td>\n",
       "      <td>NaN</td>\n",
       "      <td>Alberta</td>\n",
       "      <td>Advice-only</td>\n",
       "    </tr>\n",
       "    <tr>\n",
       "      <th>1</th>\n",
       "      <td>Barbara</td>\n",
       "      <td>NaN</td>\n",
       "      <td>Knoblach</td>\n",
       "      <td>Money Coaches Canada</td>\n",
       "      <td>barbara@moneycoachescanada.ca</td>\n",
       "      <td>All</td>\n",
       "      <td>business owner planning, corporate planning, m...</td>\n",
       "      <td>4000.0</td>\n",
       "      <td>10000.0</td>\n",
       "      <td>NaN</td>\n",
       "      <td>NaN</td>\n",
       "      <td>NaN</td>\n",
       "      <td>NaN</td>\n",
       "      <td>NaN</td>\n",
       "      <td>https://moneycoachescanada.ca/about/Barbara-kn...</td>\n",
       "      <td>NaN</td>\n",
       "      <td>NaN</td>\n",
       "      <td>Alberta</td>\n",
       "      <td>Advice-only</td>\n",
       "    </tr>\n",
       "    <tr>\n",
       "      <th>2</th>\n",
       "      <td>Diane</td>\n",
       "      <td>NaN</td>\n",
       "      <td>Dekanic</td>\n",
       "      <td>Financial Health Management</td>\n",
       "      <td>ddekanic@fhminc.ca</td>\n",
       "      <td>Not QC</td>\n",
       "      <td>tax prep and filing</td>\n",
       "      <td>2500.0</td>\n",
       "      <td>NaN</td>\n",
       "      <td>NaN</td>\n",
       "      <td>NaN</td>\n",
       "      <td>250.0</td>\n",
       "      <td>NaN</td>\n",
       "      <td>NaN</td>\n",
       "      <td>http://www.fhminc.ca/</td>\n",
       "      <td>NaN</td>\n",
       "      <td>NaN</td>\n",
       "      <td>Alberta</td>\n",
       "      <td>Advice-only</td>\n",
       "    </tr>\n",
       "    <tr>\n",
       "      <th>3</th>\n",
       "      <td>Drew</td>\n",
       "      <td>NaN</td>\n",
       "      <td>Adamick</td>\n",
       "      <td>Divergent Financial Planning</td>\n",
       "      <td>info@divergentfp.ca</td>\n",
       "      <td>Not QC</td>\n",
       "      <td>estate planning, disability planning, LGBTQAI2...</td>\n",
       "      <td>1000.0</td>\n",
       "      <td>5000.0</td>\n",
       "      <td>NaN</td>\n",
       "      <td>NaN</td>\n",
       "      <td>NaN</td>\n",
       "      <td>NaN</td>\n",
       "      <td>NaN</td>\n",
       "      <td>https://www.divergentfp.ca/</td>\n",
       "      <td>NaN</td>\n",
       "      <td>NaN</td>\n",
       "      <td>Alberta</td>\n",
       "      <td>Advice-only</td>\n",
       "    </tr>\n",
       "    <tr>\n",
       "      <th>4</th>\n",
       "      <td>Jane</td>\n",
       "      <td>NaN</td>\n",
       "      <td>Bolstad</td>\n",
       "      <td>Trusted Financial Planning</td>\n",
       "      <td>jane@trustedfinancialplanning.com</td>\n",
       "      <td>Alberta, British Columbia, Saskatchewan</td>\n",
       "      <td>NaN</td>\n",
       "      <td>2000.0</td>\n",
       "      <td>NaN</td>\n",
       "      <td>NaN</td>\n",
       "      <td>NaN</td>\n",
       "      <td>175.0</td>\n",
       "      <td>NaN</td>\n",
       "      <td>NaN</td>\n",
       "      <td>https://www.thefinancialhandyman.ca/</td>\n",
       "      <td>NaN</td>\n",
       "      <td>NaN</td>\n",
       "      <td>Alberta</td>\n",
       "      <td>Advice-only</td>\n",
       "    </tr>\n",
       "  </tbody>\n",
       "</table>\n",
       "</div>"
      ],
      "text/plain": [
       "  first_name middle_name   last_name                       company  \\\n",
       "0      Allan         NaN  Buckingham         Outdoor Life Planning   \n",
       "1    Barbara         NaN    Knoblach          Money Coaches Canada   \n",
       "2      Diane         NaN     Dekanic   Financial Health Management   \n",
       "3       Drew         NaN     Adamick  Divergent Financial Planning   \n",
       "4       Jane         NaN     Bolstad    Trusted Financial Planning   \n",
       "\n",
       "                               email                         provinces_served  \\\n",
       "0       Allan@OutdoorLifePlanning.ca                                      All   \n",
       "1      barbara@moneycoachescanada.ca                                      All   \n",
       "2                 ddekanic@fhminc.ca                                   Not QC   \n",
       "3                info@divergentfp.ca                                   Not QC   \n",
       "4  jane@trustedfinancialplanning.com  Alberta, British Columbia, Saskatchewan   \n",
       "\n",
       "                                         specialties  project_fee_low  \\\n",
       "0                                                NaN            300.0   \n",
       "1  business owner planning, corporate planning, m...           4000.0   \n",
       "2                                tax prep and filing           2500.0   \n",
       "3  estate planning, disability planning, LGBTQAI2...           1000.0   \n",
       "4                                                NaN           2000.0   \n",
       "\n",
       "   project_fee_high  monthly_fee_low  monthly_fee_high  hourly_fee  \\\n",
       "0            2300.0             25.0             175.0         NaN   \n",
       "1           10000.0              NaN               NaN         NaN   \n",
       "2               NaN              NaN               NaN       250.0   \n",
       "3            5000.0              NaN               NaN         NaN   \n",
       "4               NaN              NaN               NaN       175.0   \n",
       "\n",
       "   yearly_fee_low  yearly_fee_high  \\\n",
       "0             NaN              NaN   \n",
       "1             NaN              NaN   \n",
       "2             NaN              NaN   \n",
       "3             NaN              NaN   \n",
       "4             NaN              NaN   \n",
       "\n",
       "                                             Website  \\\n",
       "0                https://www.outdoorlifeplanning.ca/   \n",
       "1  https://moneycoachescanada.ca/about/Barbara-kn...   \n",
       "2                              http://www.fhminc.ca/   \n",
       "3                        https://www.divergentfp.ca/   \n",
       "4               https://www.thefinancialhandyman.ca/   \n",
       "\n",
       "                            Notes target_clients province_of_residence  \\\n",
       "0  Does outdoor focused lifestyle            NaN               Alberta   \n",
       "1                             NaN            NaN               Alberta   \n",
       "2                             NaN            NaN               Alberta   \n",
       "3                             NaN            NaN               Alberta   \n",
       "4                             NaN            NaN               Alberta   \n",
       "\n",
       "     fee_model  \n",
       "0  Advice-only  \n",
       "1  Advice-only  \n",
       "2  Advice-only  \n",
       "3  Advice-only  \n",
       "4  Advice-only  "
      ]
     },
     "execution_count": 2,
     "metadata": {},
     "output_type": "execute_result"
    }
   ],
   "source": [
    "df = pd.read_csv('financial_demo_data.csv')\n",
    "df.head()"
   ]
  },
  {
   "cell_type": "code",
   "execution_count": 3,
   "metadata": {},
   "outputs": [
    {
     "data": {
      "text/plain": [
       "(73, 19)"
      ]
     },
     "execution_count": 3,
     "metadata": {},
     "output_type": "execute_result"
    }
   ],
   "source": [
    "df.shape"
   ]
  },
  {
   "cell_type": "code",
   "execution_count": 4,
   "metadata": {},
   "outputs": [
    {
     "data": {
      "text/plain": [
       "Index(['first_name', 'middle_name', 'last_name', 'company', 'email',\n",
       "       'provinces_served', 'specialties', 'project_fee_low',\n",
       "       'project_fee_high', 'monthly_fee_low', 'monthly_fee_high', 'hourly_fee',\n",
       "       'yearly_fee_low', 'yearly_fee_high', 'Website', 'Notes',\n",
       "       'target_clients', 'province_of_residence', 'fee_model'],\n",
       "      dtype='object')"
      ]
     },
     "execution_count": 4,
     "metadata": {},
     "output_type": "execute_result"
    }
   ],
   "source": [
    "df.columns"
   ]
  },
  {
   "cell_type": "markdown",
   "metadata": {},
   "source": [
    "We need to replace All and Not_QC with just the actual provinces so it's easier to understand by the AI Agent."
   ]
  },
  {
   "cell_type": "code",
   "execution_count": 5,
   "metadata": {},
   "outputs": [
    {
     "data": {
      "text/plain": [
       "array(['All', 'Not QC', 'Alberta, British Columbia, Saskatchewan',\n",
       "       'Alberta, British Columbia, Manitoba, New Brunswick, Newfoundland, Northwest Territories, Nova Scotia, Nunavut, Prince Edward Island, Saskatchewan, Yukon',\n",
       "       'New Brunswick, Newfoundland, Ontario, Nova Scotia',\n",
       "       'Alberta, British Columbia, Manitoba, New Brunswick, Northwest Territories, Nova Scotia, Nunavut, Ontario, Yukon, Quebec',\n",
       "       'Alberta, Manitoba, British Columbia, New Brunswick, Newfoundland, Nova Scotia, Nunavut, Ontario, Prince Edward Island, Quebec, Saskatchewan, Yukon',\n",
       "       'Quebec'], dtype=object)"
      ]
     },
     "execution_count": 5,
     "metadata": {},
     "output_type": "execute_result"
    }
   ],
   "source": [
    "df['provinces_served'].unique()"
   ]
  },
  {
   "cell_type": "code",
   "execution_count": 6,
   "metadata": {},
   "outputs": [],
   "source": [
    "All = 'Alberta, British Columbia, Manitoba, New Brunswick, Newfoundland, Northwest Territories, Nova Scotia, Nunavut, Ontario, Prince Edward Island, Quebec, Saskatchewan, Yukon'\n",
    "Not_QC = 'Alberta, British Columbia, Manitoba, New Brunswick, Newfoundland, Northwest Territories, Nova Scotia, Nunavut, Ontario, Prince Edward Island, Saskatchewan, Yukon'\n",
    "\n",
    "df.loc[df['provinces_served'] == 'All', 'provinces_served'] = All\n",
    "df.loc[df['provinces_served'] == 'Not QC', 'provinces_served'] = Not_QC"
   ]
  },
  {
   "cell_type": "code",
   "execution_count": 7,
   "metadata": {},
   "outputs": [
    {
     "name": "stdout",
     "output_type": "stream",
     "text": [
      "Alberta, British Columbia, Manitoba, New Brunswick, Newfoundland, Northwest Territories, Nova Scotia, Nunavut, Ontario, Prince Edward Island, Quebec, Saskatchewan, Yukon\n",
      "Alberta, British Columbia, Manitoba, New Brunswick, Newfoundland, Northwest Territories, Nova Scotia, Nunavut, Ontario, Prince Edward Island, Saskatchewan, Yukon\n",
      "Alberta, British Columbia, Saskatchewan\n",
      "Alberta, British Columbia, Manitoba, New Brunswick, Newfoundland, Northwest Territories, Nova Scotia, Nunavut, Prince Edward Island, Saskatchewan, Yukon\n",
      "New Brunswick, Newfoundland, Ontario, Nova Scotia\n",
      "Alberta, British Columbia, Manitoba, New Brunswick, Northwest Territories, Nova Scotia, Nunavut, Ontario, Yukon, Quebec\n",
      "Alberta, Manitoba, British Columbia, New Brunswick, Newfoundland, Nova Scotia, Nunavut, Ontario, Prince Edward Island, Quebec, Saskatchewan, Yukon\n",
      "Quebec\n"
     ]
    }
   ],
   "source": [
    "for x in list(df['provinces_served'].unique()):\n",
    "    print(x)"
   ]
  },
  {
   "cell_type": "code",
   "execution_count": 8,
   "metadata": {},
   "outputs": [
    {
     "data": {
      "text/plain": [
       "19"
      ]
     },
     "execution_count": 8,
     "metadata": {},
     "output_type": "execute_result"
    }
   ],
   "source": [
    "len(df.columns)"
   ]
  },
  {
   "cell_type": "code",
   "execution_count": 9,
   "metadata": {},
   "outputs": [],
   "source": [
    "df.to_csv('cleaned_demo_data.csv', index=False)"
   ]
  },
  {
   "cell_type": "markdown",
   "metadata": {},
   "source": [
    "## PandasAI"
   ]
  },
  {
   "cell_type": "code",
   "execution_count": 10,
   "metadata": {},
   "outputs": [
    {
     "data": {
      "text/html": [
       "<div>\n",
       "<style scoped>\n",
       "    .dataframe tbody tr th:only-of-type {\n",
       "        vertical-align: middle;\n",
       "    }\n",
       "\n",
       "    .dataframe tbody tr th {\n",
       "        vertical-align: top;\n",
       "    }\n",
       "\n",
       "    .dataframe thead th {\n",
       "        text-align: right;\n",
       "    }\n",
       "</style>\n",
       "<table border=\"1\" class=\"dataframe\">\n",
       "  <thead>\n",
       "    <tr style=\"text-align: right;\">\n",
       "      <th></th>\n",
       "      <th>first_name</th>\n",
       "      <th>middle_name</th>\n",
       "      <th>last_name</th>\n",
       "      <th>company</th>\n",
       "      <th>email</th>\n",
       "      <th>provinces_served</th>\n",
       "      <th>specialties</th>\n",
       "      <th>project_fee_low</th>\n",
       "      <th>project_fee_high</th>\n",
       "      <th>monthly_fee_low</th>\n",
       "      <th>monthly_fee_high</th>\n",
       "      <th>hourly_fee</th>\n",
       "      <th>yearly_fee_low</th>\n",
       "      <th>yearly_fee_high</th>\n",
       "      <th>Website</th>\n",
       "      <th>Notes</th>\n",
       "      <th>target_clients</th>\n",
       "      <th>province_of_residence</th>\n",
       "      <th>fee_model</th>\n",
       "    </tr>\n",
       "  </thead>\n",
       "  <tbody>\n",
       "    <tr>\n",
       "      <th>0</th>\n",
       "      <td>Allan</td>\n",
       "      <td>NaN</td>\n",
       "      <td>Buckingham</td>\n",
       "      <td>Outdoor Life Planning</td>\n",
       "      <td>Allan@OutdoorLifePlanning.ca</td>\n",
       "      <td>Alberta, British Columbia, Manitoba, New Bruns...</td>\n",
       "      <td>NaN</td>\n",
       "      <td>300.0</td>\n",
       "      <td>2300.0</td>\n",
       "      <td>25.0</td>\n",
       "      <td>175.0</td>\n",
       "      <td>NaN</td>\n",
       "      <td>NaN</td>\n",
       "      <td>NaN</td>\n",
       "      <td>https://www.outdoorlifeplanning.ca/</td>\n",
       "      <td>Does outdoor focused lifestyle</td>\n",
       "      <td>NaN</td>\n",
       "      <td>Alberta</td>\n",
       "      <td>Advice-only</td>\n",
       "    </tr>\n",
       "    <tr>\n",
       "      <th>1</th>\n",
       "      <td>Barbara</td>\n",
       "      <td>NaN</td>\n",
       "      <td>Knoblach</td>\n",
       "      <td>Money Coaches Canada</td>\n",
       "      <td>barbara@moneycoachescanada.ca</td>\n",
       "      <td>Alberta, British Columbia, Manitoba, New Bruns...</td>\n",
       "      <td>business owner planning, corporate planning, m...</td>\n",
       "      <td>4000.0</td>\n",
       "      <td>10000.0</td>\n",
       "      <td>NaN</td>\n",
       "      <td>NaN</td>\n",
       "      <td>NaN</td>\n",
       "      <td>NaN</td>\n",
       "      <td>NaN</td>\n",
       "      <td>https://moneycoachescanada.ca/about/Barbara-kn...</td>\n",
       "      <td>NaN</td>\n",
       "      <td>NaN</td>\n",
       "      <td>Alberta</td>\n",
       "      <td>Advice-only</td>\n",
       "    </tr>\n",
       "    <tr>\n",
       "      <th>2</th>\n",
       "      <td>Diane</td>\n",
       "      <td>NaN</td>\n",
       "      <td>Dekanic</td>\n",
       "      <td>Financial Health Management</td>\n",
       "      <td>ddekanic@fhminc.ca</td>\n",
       "      <td>Alberta, British Columbia, Manitoba, New Bruns...</td>\n",
       "      <td>tax prep and filing</td>\n",
       "      <td>2500.0</td>\n",
       "      <td>NaN</td>\n",
       "      <td>NaN</td>\n",
       "      <td>NaN</td>\n",
       "      <td>250.0</td>\n",
       "      <td>NaN</td>\n",
       "      <td>NaN</td>\n",
       "      <td>http://www.fhminc.ca/</td>\n",
       "      <td>NaN</td>\n",
       "      <td>NaN</td>\n",
       "      <td>Alberta</td>\n",
       "      <td>Advice-only</td>\n",
       "    </tr>\n",
       "    <tr>\n",
       "      <th>3</th>\n",
       "      <td>Drew</td>\n",
       "      <td>NaN</td>\n",
       "      <td>Adamick</td>\n",
       "      <td>Divergent Financial Planning</td>\n",
       "      <td>info@divergentfp.ca</td>\n",
       "      <td>Alberta, British Columbia, Manitoba, New Bruns...</td>\n",
       "      <td>estate planning, disability planning, LGBTQAI2...</td>\n",
       "      <td>1000.0</td>\n",
       "      <td>5000.0</td>\n",
       "      <td>NaN</td>\n",
       "      <td>NaN</td>\n",
       "      <td>NaN</td>\n",
       "      <td>NaN</td>\n",
       "      <td>NaN</td>\n",
       "      <td>https://www.divergentfp.ca/</td>\n",
       "      <td>NaN</td>\n",
       "      <td>NaN</td>\n",
       "      <td>Alberta</td>\n",
       "      <td>Advice-only</td>\n",
       "    </tr>\n",
       "    <tr>\n",
       "      <th>4</th>\n",
       "      <td>Jane</td>\n",
       "      <td>NaN</td>\n",
       "      <td>Bolstad</td>\n",
       "      <td>Trusted Financial Planning</td>\n",
       "      <td>jane@trustedfinancialplanning.com</td>\n",
       "      <td>Alberta, British Columbia, Saskatchewan</td>\n",
       "      <td>NaN</td>\n",
       "      <td>2000.0</td>\n",
       "      <td>NaN</td>\n",
       "      <td>NaN</td>\n",
       "      <td>NaN</td>\n",
       "      <td>175.0</td>\n",
       "      <td>NaN</td>\n",
       "      <td>NaN</td>\n",
       "      <td>https://www.thefinancialhandyman.ca/</td>\n",
       "      <td>NaN</td>\n",
       "      <td>NaN</td>\n",
       "      <td>Alberta</td>\n",
       "      <td>Advice-only</td>\n",
       "    </tr>\n",
       "  </tbody>\n",
       "</table>\n",
       "</div>"
      ],
      "text/plain": [
       "  first_name middle_name   last_name                       company  \\\n",
       "0      Allan         NaN  Buckingham         Outdoor Life Planning   \n",
       "1    Barbara         NaN    Knoblach          Money Coaches Canada   \n",
       "2      Diane         NaN     Dekanic   Financial Health Management   \n",
       "3       Drew         NaN     Adamick  Divergent Financial Planning   \n",
       "4       Jane         NaN     Bolstad    Trusted Financial Planning   \n",
       "\n",
       "                               email  \\\n",
       "0       Allan@OutdoorLifePlanning.ca   \n",
       "1      barbara@moneycoachescanada.ca   \n",
       "2                 ddekanic@fhminc.ca   \n",
       "3                info@divergentfp.ca   \n",
       "4  jane@trustedfinancialplanning.com   \n",
       "\n",
       "                                    provinces_served  \\\n",
       "0  Alberta, British Columbia, Manitoba, New Bruns...   \n",
       "1  Alberta, British Columbia, Manitoba, New Bruns...   \n",
       "2  Alberta, British Columbia, Manitoba, New Bruns...   \n",
       "3  Alberta, British Columbia, Manitoba, New Bruns...   \n",
       "4            Alberta, British Columbia, Saskatchewan   \n",
       "\n",
       "                                         specialties  project_fee_low  \\\n",
       "0                                                NaN            300.0   \n",
       "1  business owner planning, corporate planning, m...           4000.0   \n",
       "2                                tax prep and filing           2500.0   \n",
       "3  estate planning, disability planning, LGBTQAI2...           1000.0   \n",
       "4                                                NaN           2000.0   \n",
       "\n",
       "   project_fee_high  monthly_fee_low  monthly_fee_high  hourly_fee  \\\n",
       "0            2300.0             25.0             175.0         NaN   \n",
       "1           10000.0              NaN               NaN         NaN   \n",
       "2               NaN              NaN               NaN       250.0   \n",
       "3            5000.0              NaN               NaN         NaN   \n",
       "4               NaN              NaN               NaN       175.0   \n",
       "\n",
       "   yearly_fee_low  yearly_fee_high  \\\n",
       "0             NaN              NaN   \n",
       "1             NaN              NaN   \n",
       "2             NaN              NaN   \n",
       "3             NaN              NaN   \n",
       "4             NaN              NaN   \n",
       "\n",
       "                                             Website  \\\n",
       "0                https://www.outdoorlifeplanning.ca/   \n",
       "1  https://moneycoachescanada.ca/about/Barbara-kn...   \n",
       "2                              http://www.fhminc.ca/   \n",
       "3                        https://www.divergentfp.ca/   \n",
       "4               https://www.thefinancialhandyman.ca/   \n",
       "\n",
       "                            Notes target_clients province_of_residence  \\\n",
       "0  Does outdoor focused lifestyle            NaN               Alberta   \n",
       "1                             NaN            NaN               Alberta   \n",
       "2                             NaN            NaN               Alberta   \n",
       "3                             NaN            NaN               Alberta   \n",
       "4                             NaN            NaN               Alberta   \n",
       "\n",
       "     fee_model  \n",
       "0  Advice-only  \n",
       "1  Advice-only  \n",
       "2  Advice-only  \n",
       "3  Advice-only  \n",
       "4  Advice-only  "
      ]
     },
     "execution_count": 10,
     "metadata": {},
     "output_type": "execute_result"
    }
   ],
   "source": [
    "df = pd.read_csv('cleaned_demo_data.csv')\n",
    "df.head()"
   ]
  },
  {
   "cell_type": "code",
   "execution_count": 11,
   "metadata": {},
   "outputs": [
    {
     "data": {
      "text/plain": [
       "'Alberta, British Columbia, Manitoba, New Brunswick, Newfoundland, Northwest Territories, Nova Scotia, Nunavut, Ontario, Prince Edward Island, Quebec, Saskatchewan, Yukon'"
      ]
     },
     "execution_count": 11,
     "metadata": {},
     "output_type": "execute_result"
    }
   ],
   "source": [
    "df['provinces_served'][0]"
   ]
  },
  {
   "cell_type": "code",
   "execution_count": 92,
   "metadata": {},
   "outputs": [],
   "source": [
    "def convert_to_list(provinces_string):\n",
    "    return provinces_string.replace(\" \", \"\").split(\",\")\n",
    "\n",
    "provinces_list = convert_to_list('Alberta, British Columbia, Manitoba, New Brunswick, Newfoundland, Northwest Territories, Nova Scotia, Nunavut, Ontario, Prince Edward Island, Quebec, Saskatchewan, Yukon')"
   ]
  },
  {
   "cell_type": "code",
   "execution_count": 93,
   "metadata": {},
   "outputs": [
    {
     "data": {
      "text/plain": [
       "True"
      ]
     },
     "execution_count": 93,
     "metadata": {},
     "output_type": "execute_result"
    }
   ],
   "source": [
    "set(provinces_list).issubset(set(convert_to_list(All)))"
   ]
  },
  {
   "cell_type": "code",
   "execution_count": 23,
   "metadata": {},
   "outputs": [],
   "source": [
    "def filter_provinces(row, selected_regions):\n",
    "    # Split the provinces_served string into a list of provinces\n",
    "    provinces_list = [province.strip() for province in row.split(',')]\n",
    "    # Check if all selected regions are in the list of provinces\n",
    "    return all(region in provinces_list for region in selected_regions)"
   ]
  },
  {
   "cell_type": "code",
   "execution_count": 101,
   "metadata": {},
   "outputs": [
    {
     "data": {
      "text/plain": [
       "(39, 19)"
      ]
     },
     "execution_count": 101,
     "metadata": {},
     "output_type": "execute_result"
    }
   ],
   "source": [
    "selected_regions = [\"Quebec\"]\n",
    "filtered_df = df[df['provinces_served'].apply(filter_provinces, selected_regions=selected_regions)]\n",
    "filtered_df.shape"
   ]
  },
  {
   "cell_type": "markdown",
   "metadata": {},
   "source": [
    "Repeating the same processing and filtering with the specialities column. First we need to find out what the unique values are."
   ]
  },
  {
   "cell_type": "code",
   "execution_count": 21,
   "metadata": {},
   "outputs": [
    {
     "name": "stdout",
     "output_type": "stream",
     "text": [
      "['CPP, GIS, etc.', 'Cash flow management', 'Debt Management', 'LGBTQAI2S+ Households', 'business owner planning', 'business transition plans', 'corporate planning', 'cross-border planning', 'disability planning', 'estate planning', 'expatriate planning', 'family business', 'life insurance', 'medical professionals', 'pension plans', 'pro athletes', 'rental property', 'retirement income', 'self-employed', 'separation and divorce', 'small business', 'small clients', 'tax planning', 'tax prep and filing', 'trusts']\n"
     ]
    }
   ],
   "source": [
    "import csv\n",
    "\n",
    "specialties_list = []\n",
    "\n",
    "for row in df['specialties']:\n",
    "    # Skip rows with NaN values\n",
    "    if pd.isna(row):\n",
    "        continue\n",
    "    # Use csv.reader to properly parse the row, preserving quoted items as single values\n",
    "    reader = csv.reader([row])\n",
    "    specialties = next(reader)  # Parse the row into a list of specialties\n",
    "    # Strip any extra whitespace from each specialty\n",
    "    specialties = [specialty.strip() for specialty in specialties]\n",
    "    # Extend the specialties_list with the individual specialties\n",
    "    specialties_list.extend(specialties)\n",
    "\n",
    "# Get the unique specialties by converting the list to a set\n",
    "unique_specialties = list(set(specialties_list))\n",
    "\n",
    "# Sort the list of unique specialties for better display\n",
    "unique_specialties.sort()\n",
    "\n",
    "# Print the unique specialties\n",
    "print(unique_specialties)"
   ]
  },
  {
   "cell_type": "code",
   "execution_count": 22,
   "metadata": {},
   "outputs": [
    {
     "data": {
      "text/plain": [
       "25"
      ]
     },
     "execution_count": 22,
     "metadata": {},
     "output_type": "execute_result"
    }
   ],
   "source": [
    "len(unique_specialties)"
   ]
  },
  {
   "cell_type": "code",
   "execution_count": 26,
   "metadata": {},
   "outputs": [],
   "source": [
    "def filter_specialties(row, selected_specialties):\n",
    "    # If the row is NaN, return False (to filter out this row)\n",
    "    if pd.isna(row):\n",
    "        return False\n",
    "    # Split the specialties string into a list of specialties\n",
    "    specialties_list = [specialty.strip() for specialty in row.split(',')]\n",
    "    # Check if all selected specialties are in the list of specialties\n",
    "    return all(specialty in specialties_list for specialty in selected_specialties)\n"
   ]
  },
  {
   "cell_type": "code",
   "execution_count": 28,
   "metadata": {},
   "outputs": [
    {
     "data": {
      "text/plain": [
       "(4, 19)"
      ]
     },
     "execution_count": 28,
     "metadata": {},
     "output_type": "execute_result"
    }
   ],
   "source": [
    "selected_specialties = [\"Cash flow management\"]\n",
    "filtered_df = df[df['specialties'].apply(filter_specialties, selected_specialties=selected_specialties)]\n",
    "filtered_df.shape"
   ]
  },
  {
   "cell_type": "code",
   "execution_count": 31,
   "metadata": {},
   "outputs": [
    {
     "data": {
      "text/html": [
       "<div>\n",
       "<style scoped>\n",
       "    .dataframe tbody tr th:only-of-type {\n",
       "        vertical-align: middle;\n",
       "    }\n",
       "\n",
       "    .dataframe tbody tr th {\n",
       "        vertical-align: top;\n",
       "    }\n",
       "\n",
       "    .dataframe thead th {\n",
       "        text-align: right;\n",
       "    }\n",
       "</style>\n",
       "<table border=\"1\" class=\"dataframe\">\n",
       "  <thead>\n",
       "    <tr style=\"text-align: right;\">\n",
       "      <th></th>\n",
       "      <th>first_name</th>\n",
       "      <th>middle_name</th>\n",
       "      <th>last_name</th>\n",
       "      <th>company</th>\n",
       "      <th>email</th>\n",
       "      <th>provinces_served</th>\n",
       "      <th>specialties</th>\n",
       "      <th>project_fee_low</th>\n",
       "      <th>project_fee_high</th>\n",
       "      <th>monthly_fee_low</th>\n",
       "      <th>monthly_fee_high</th>\n",
       "      <th>hourly_fee</th>\n",
       "      <th>yearly_fee_low</th>\n",
       "      <th>yearly_fee_high</th>\n",
       "      <th>Website</th>\n",
       "      <th>Notes</th>\n",
       "      <th>target_clients</th>\n",
       "      <th>province_of_residence</th>\n",
       "      <th>fee_model</th>\n",
       "    </tr>\n",
       "  </thead>\n",
       "  <tbody>\n",
       "    <tr>\n",
       "      <th>7</th>\n",
       "      <td>Robb</td>\n",
       "      <td>NaN</td>\n",
       "      <td>Engen</td>\n",
       "      <td>Boomer &amp; Echo</td>\n",
       "      <td>robbengen@gmail.com</td>\n",
       "      <td>Alberta, British Columbia, Manitoba, New Bruns...</td>\n",
       "      <td>Cash flow management, Debt Management</td>\n",
       "      <td>2400.0</td>\n",
       "      <td>2700.0</td>\n",
       "      <td>NaN</td>\n",
       "      <td>NaN</td>\n",
       "      <td>NaN</td>\n",
       "      <td>NaN</td>\n",
       "      <td>NaN</td>\n",
       "      <td>https://boomerandecho.com/fee-only-advice/</td>\n",
       "      <td>NaN</td>\n",
       "      <td>NaN</td>\n",
       "      <td>Alberta</td>\n",
       "      <td>Advice-only</td>\n",
       "    </tr>\n",
       "    <tr>\n",
       "      <th>20</th>\n",
       "      <td>Kristen</td>\n",
       "      <td>NaN</td>\n",
       "      <td>Pedersen</td>\n",
       "      <td>Money Coaches Canada</td>\n",
       "      <td>Kristen@moneycoachescanada.ca</td>\n",
       "      <td>Alberta, British Columbia, Manitoba, New Bruns...</td>\n",
       "      <td>Cash flow management, Debt Management</td>\n",
       "      <td>4000.0</td>\n",
       "      <td>7000.0</td>\n",
       "      <td>NaN</td>\n",
       "      <td>NaN</td>\n",
       "      <td>NaN</td>\n",
       "      <td>NaN</td>\n",
       "      <td>NaN</td>\n",
       "      <td>https://moneycoachescanada.ca/about/Kristen-Pe...</td>\n",
       "      <td>NaN</td>\n",
       "      <td>NaN</td>\n",
       "      <td>British Columbia</td>\n",
       "      <td>Advice-only</td>\n",
       "    </tr>\n",
       "    <tr>\n",
       "      <th>25</th>\n",
       "      <td>Sheila</td>\n",
       "      <td>NaN</td>\n",
       "      <td>Walkington</td>\n",
       "      <td>Money Coaches Canada</td>\n",
       "      <td>sheila@moneycoachescanada.ca</td>\n",
       "      <td>Alberta, British Columbia, Manitoba, New Bruns...</td>\n",
       "      <td>Cash flow management, Debt Management</td>\n",
       "      <td>3600.0</td>\n",
       "      <td>5500.0</td>\n",
       "      <td>NaN</td>\n",
       "      <td>NaN</td>\n",
       "      <td>NaN</td>\n",
       "      <td>NaN</td>\n",
       "      <td>NaN</td>\n",
       "      <td>https://moneycoachescanada.ca/about/sheila-wal...</td>\n",
       "      <td>NaN</td>\n",
       "      <td>NaN</td>\n",
       "      <td>British Columbia</td>\n",
       "      <td>Advice-only</td>\n",
       "    </tr>\n",
       "    <tr>\n",
       "      <th>67</th>\n",
       "      <td>Thuy</td>\n",
       "      <td>Twee</td>\n",
       "      <td>Lam</td>\n",
       "      <td>Objective Financial Partners</td>\n",
       "      <td>tlam@objectivecfp.com</td>\n",
       "      <td>Alberta, British Columbia, Manitoba, New Bruns...</td>\n",
       "      <td>Cash flow management</td>\n",
       "      <td>1500.0</td>\n",
       "      <td>NaN</td>\n",
       "      <td>75.0</td>\n",
       "      <td>125.0</td>\n",
       "      <td>NaN</td>\n",
       "      <td>NaN</td>\n",
       "      <td>NaN</td>\n",
       "      <td>https://objectivefinancialpartners.com/</td>\n",
       "      <td>NaN</td>\n",
       "      <td>NaN</td>\n",
       "      <td>Ontario</td>\n",
       "      <td>Advice-only</td>\n",
       "    </tr>\n",
       "  </tbody>\n",
       "</table>\n",
       "</div>"
      ],
      "text/plain": [
       "   first_name middle_name   last_name                       company  \\\n",
       "7        Robb         NaN       Engen                 Boomer & Echo   \n",
       "20    Kristen         NaN    Pedersen          Money Coaches Canada   \n",
       "25     Sheila         NaN  Walkington          Money Coaches Canada   \n",
       "67       Thuy        Twee         Lam  Objective Financial Partners   \n",
       "\n",
       "                            email  \\\n",
       "7             robbengen@gmail.com   \n",
       "20  Kristen@moneycoachescanada.ca   \n",
       "25   sheila@moneycoachescanada.ca   \n",
       "67          tlam@objectivecfp.com   \n",
       "\n",
       "                                     provinces_served  \\\n",
       "7   Alberta, British Columbia, Manitoba, New Bruns...   \n",
       "20  Alberta, British Columbia, Manitoba, New Bruns...   \n",
       "25  Alberta, British Columbia, Manitoba, New Bruns...   \n",
       "67  Alberta, British Columbia, Manitoba, New Bruns...   \n",
       "\n",
       "                              specialties  project_fee_low  project_fee_high  \\\n",
       "7   Cash flow management, Debt Management           2400.0            2700.0   \n",
       "20  Cash flow management, Debt Management           4000.0            7000.0   \n",
       "25  Cash flow management, Debt Management           3600.0            5500.0   \n",
       "67                   Cash flow management           1500.0               NaN   \n",
       "\n",
       "    monthly_fee_low  monthly_fee_high  hourly_fee  yearly_fee_low  \\\n",
       "7               NaN               NaN         NaN             NaN   \n",
       "20              NaN               NaN         NaN             NaN   \n",
       "25              NaN               NaN         NaN             NaN   \n",
       "67             75.0             125.0         NaN             NaN   \n",
       "\n",
       "    yearly_fee_high                                            Website Notes  \\\n",
       "7               NaN         https://boomerandecho.com/fee-only-advice/   NaN   \n",
       "20              NaN  https://moneycoachescanada.ca/about/Kristen-Pe...   NaN   \n",
       "25              NaN  https://moneycoachescanada.ca/about/sheila-wal...   NaN   \n",
       "67              NaN            https://objectivefinancialpartners.com/   NaN   \n",
       "\n",
       "   target_clients province_of_residence    fee_model  \n",
       "7             NaN               Alberta  Advice-only  \n",
       "20            NaN      British Columbia  Advice-only  \n",
       "25            NaN      British Columbia  Advice-only  \n",
       "67            NaN               Ontario  Advice-only  "
      ]
     },
     "execution_count": 31,
     "metadata": {},
     "output_type": "execute_result"
    }
   ],
   "source": [
    "filtered_df"
   ]
  },
  {
   "cell_type": "code",
   "execution_count": 32,
   "metadata": {},
   "outputs": [],
   "source": [
    "from openai import OpenAI"
   ]
  },
  {
   "cell_type": "code",
   "execution_count": 34,
   "metadata": {},
   "outputs": [],
   "source": [
    "from dotenv import load_dotenv\n",
    "import os\n",
    "load_dotenv()\n",
    "\n",
    "client = OpenAI(api_key=os.environ[\"OPENAI_API_KEY\"])"
   ]
  },
  {
   "cell_type": "code",
   "execution_count": 37,
   "metadata": {},
   "outputs": [],
   "source": [
    "openai_response = client.chat.completions.create(\n",
    "    model=\"gpt-3.5-turbo\",\n",
    "    temperature=0,\n",
    "    messages=[{\"role\": \"user\", \"content\": \"Who is Barry Allen?\"}],\n",
    ")"
   ]
  },
  {
   "cell_type": "code",
   "execution_count": 40,
   "metadata": {},
   "outputs": [
    {
     "data": {
      "text/plain": [
       "ChatCompletion(id='chatcmpl-AZAVp2G6Qj8OzwVQbAXObOuuC7iNm', choices=[Choice(finish_reason='stop', index=0, logprobs=None, message=ChatCompletionMessage(content='Barry Allen is a fictional character in the DC Comics universe. He is a forensic scientist who gains superhuman speed after being struck by lightning and exposed to chemicals. He becomes the superhero known as The Flash, using his speed to fight crime and protect Central City. Barry Allen is one of the most well-known and iconic characters in the DC Comics universe.', refusal=None, role='assistant', audio=None, function_call=None, tool_calls=None))], created=1732945253, model='gpt-3.5-turbo-0125', object='chat.completion', service_tier=None, system_fingerprint=None, usage=CompletionUsage(completion_tokens=71, prompt_tokens=12, total_tokens=83, completion_tokens_details=CompletionTokensDetails(accepted_prediction_tokens=0, audio_tokens=0, reasoning_tokens=0, rejected_prediction_tokens=0), prompt_tokens_details=PromptTokensDetails(audio_tokens=0, cached_tokens=0)))"
      ]
     },
     "execution_count": 40,
     "metadata": {},
     "output_type": "execute_result"
    }
   ],
   "source": [
    "openai_response"
   ]
  },
  {
   "cell_type": "code",
   "execution_count": 45,
   "metadata": {},
   "outputs": [],
   "source": [
    "from pandasai import SmartDataframe\n",
    "from pandasai.llm import OpenAI as PandasOpenAI\n",
    "from pandasai.responses.response_parser import ResponseParser"
   ]
  },
  {
   "cell_type": "code",
   "execution_count": 42,
   "metadata": {},
   "outputs": [],
   "source": [
    "query = \"who are the top most expensive financial planners?\""
   ]
  },
  {
   "cell_type": "code",
   "execution_count": 47,
   "metadata": {},
   "outputs": [
    {
     "name": "stdout",
     "output_type": "stream",
     "text": [
      "  first_name  middle_name  last_name                            company  \\\n",
      "0      Scott          NaN  Robertson          Tasman Financial Services   \n",
      "1        Jim          NaN        Pan            Panorama Advisory Group   \n",
      "2    Cynthia          NaN       Kett  Stewart & Kett Financial Advisors   \n",
      "\n",
      "                          email  \\\n",
      "0               Scott@tasman.ca   \n",
      "1        Jim.pan@panadvisory.ca   \n",
      "2  cynthia.kett@stewartkett.com   \n",
      "\n",
      "                                    provinces_served  \\\n",
      "0  Alberta, British Columbia, Manitoba, New Bruns...   \n",
      "1  Alberta, British Columbia, Manitoba, New Bruns...   \n",
      "2  Alberta, British Columbia, Manitoba, New Bruns...   \n",
      "\n",
      "                                         specialties  project_fee_low  \\\n",
      "0       trusts, estate planning, tax prep and filing           3000.0   \n",
      "1          corporate planning, medical professionals           1500.0   \n",
      "2  trusts, estate planning, corporate planning, t...              NaN   \n",
      "\n",
      "   project_fee_high  monthly_fee_low  monthly_fee_high  hourly_fee  \\\n",
      "0           30000.0              NaN               NaN         NaN   \n",
      "1            6000.0            300.0             400.0       300.0   \n",
      "2               NaN              NaN               NaN         NaN   \n",
      "\n",
      "   yearly_fee_low  yearly_fee_high                       Website  \\\n",
      "0             NaN              NaN         http://www.tasman.ca/   \n",
      "1             NaN              NaN    http://www.panadvisory.ca/   \n",
      "2          6000.0          60000.0  https://www.stewartkett.com/   \n",
      "\n",
      "                                               Notes  target_clients  \\\n",
      "0                                provinces unclear,              NaN   \n",
      "1                                                NaN             NaN   \n",
      "2  seems to charge as much as $60k per year so wo...             NaN   \n",
      "\n",
      "  province_of_residence    fee_model  \n",
      "0               Ontario  Advice-only  \n",
      "1      British Columbia  Advice-only  \n",
      "2               Ontario  Advice-only  \n"
     ]
    }
   ],
   "source": [
    "llm = PandasOpenAI(api_token=os.environ[\"OPENAI_API_KEY\"])\n",
    "query_engine = SmartDataframe(\n",
    "    df,\n",
    "    config={\n",
    "        \"llm\": llm,\n",
    "    },\n",
    ")\n",
    "\n",
    "answer = query_engine.chat(query)"
   ]
  },
  {
   "cell_type": "code",
   "execution_count": 48,
   "metadata": {},
   "outputs": [
    {
     "data": {
      "text/html": [
       "<div>\n",
       "<style scoped>\n",
       "    .dataframe tbody tr th:only-of-type {\n",
       "        vertical-align: middle;\n",
       "    }\n",
       "\n",
       "    .dataframe tbody tr th {\n",
       "        vertical-align: top;\n",
       "    }\n",
       "\n",
       "    .dataframe thead th {\n",
       "        text-align: right;\n",
       "    }\n",
       "</style>\n",
       "<table border=\"1\" class=\"dataframe\">\n",
       "  <thead>\n",
       "    <tr style=\"text-align: right;\">\n",
       "      <th></th>\n",
       "      <th>first_name</th>\n",
       "      <th>middle_name</th>\n",
       "      <th>last_name</th>\n",
       "      <th>company</th>\n",
       "      <th>email</th>\n",
       "      <th>provinces_served</th>\n",
       "      <th>specialties</th>\n",
       "      <th>project_fee_low</th>\n",
       "      <th>project_fee_high</th>\n",
       "      <th>monthly_fee_low</th>\n",
       "      <th>monthly_fee_high</th>\n",
       "      <th>hourly_fee</th>\n",
       "      <th>yearly_fee_low</th>\n",
       "      <th>yearly_fee_high</th>\n",
       "      <th>Website</th>\n",
       "      <th>Notes</th>\n",
       "      <th>target_clients</th>\n",
       "      <th>province_of_residence</th>\n",
       "      <th>fee_model</th>\n",
       "    </tr>\n",
       "  </thead>\n",
       "  <tbody>\n",
       "    <tr>\n",
       "      <th>0</th>\n",
       "      <td>Scott</td>\n",
       "      <td>NaN</td>\n",
       "      <td>Robertson</td>\n",
       "      <td>Tasman Financial Services</td>\n",
       "      <td>Scott@tasman.ca</td>\n",
       "      <td>Alberta, British Columbia, Manitoba, New Bruns...</td>\n",
       "      <td>trusts, estate planning, tax prep and filing</td>\n",
       "      <td>3000.0</td>\n",
       "      <td>30000.0</td>\n",
       "      <td>NaN</td>\n",
       "      <td>NaN</td>\n",
       "      <td>NaN</td>\n",
       "      <td>NaN</td>\n",
       "      <td>NaN</td>\n",
       "      <td>http://www.tasman.ca/</td>\n",
       "      <td>provinces unclear,</td>\n",
       "      <td>NaN</td>\n",
       "      <td>Ontario</td>\n",
       "      <td>Advice-only</td>\n",
       "    </tr>\n",
       "    <tr>\n",
       "      <th>1</th>\n",
       "      <td>Jim</td>\n",
       "      <td>NaN</td>\n",
       "      <td>Pan</td>\n",
       "      <td>Panorama Advisory Group</td>\n",
       "      <td>Jim.pan@panadvisory.ca</td>\n",
       "      <td>Alberta, British Columbia, Manitoba, New Bruns...</td>\n",
       "      <td>corporate planning, medical professionals</td>\n",
       "      <td>1500.0</td>\n",
       "      <td>6000.0</td>\n",
       "      <td>300.0</td>\n",
       "      <td>400.0</td>\n",
       "      <td>300.0</td>\n",
       "      <td>NaN</td>\n",
       "      <td>NaN</td>\n",
       "      <td>http://www.panadvisory.ca/</td>\n",
       "      <td>NaN</td>\n",
       "      <td>NaN</td>\n",
       "      <td>British Columbia</td>\n",
       "      <td>Advice-only</td>\n",
       "    </tr>\n",
       "    <tr>\n",
       "      <th>2</th>\n",
       "      <td>Cynthia</td>\n",
       "      <td>NaN</td>\n",
       "      <td>Kett</td>\n",
       "      <td>Stewart &amp; Kett Financial Advisors</td>\n",
       "      <td>cynthia.kett@stewartkett.com</td>\n",
       "      <td>Alberta, British Columbia, Manitoba, New Bruns...</td>\n",
       "      <td>trusts, estate planning, corporate planning, t...</td>\n",
       "      <td>NaN</td>\n",
       "      <td>NaN</td>\n",
       "      <td>NaN</td>\n",
       "      <td>NaN</td>\n",
       "      <td>NaN</td>\n",
       "      <td>6000.0</td>\n",
       "      <td>60000.0</td>\n",
       "      <td>https://www.stewartkett.com/</td>\n",
       "      <td>seems to charge as much as $60k per year so wo...</td>\n",
       "      <td>NaN</td>\n",
       "      <td>Ontario</td>\n",
       "      <td>Advice-only</td>\n",
       "    </tr>\n",
       "  </tbody>\n",
       "</table>\n",
       "</div>"
      ],
      "text/plain": [
       "  first_name  middle_name  last_name                            company  \\\n",
       "0      Scott          NaN  Robertson          Tasman Financial Services   \n",
       "1        Jim          NaN        Pan            Panorama Advisory Group   \n",
       "2    Cynthia          NaN       Kett  Stewart & Kett Financial Advisors   \n",
       "\n",
       "                          email  \\\n",
       "0               Scott@tasman.ca   \n",
       "1        Jim.pan@panadvisory.ca   \n",
       "2  cynthia.kett@stewartkett.com   \n",
       "\n",
       "                                    provinces_served  \\\n",
       "0  Alberta, British Columbia, Manitoba, New Bruns...   \n",
       "1  Alberta, British Columbia, Manitoba, New Bruns...   \n",
       "2  Alberta, British Columbia, Manitoba, New Bruns...   \n",
       "\n",
       "                                         specialties  project_fee_low  \\\n",
       "0       trusts, estate planning, tax prep and filing           3000.0   \n",
       "1          corporate planning, medical professionals           1500.0   \n",
       "2  trusts, estate planning, corporate planning, t...              NaN   \n",
       "\n",
       "   project_fee_high  monthly_fee_low  monthly_fee_high  hourly_fee  \\\n",
       "0           30000.0              NaN               NaN         NaN   \n",
       "1            6000.0            300.0             400.0       300.0   \n",
       "2               NaN              NaN               NaN         NaN   \n",
       "\n",
       "   yearly_fee_low  yearly_fee_high                       Website  \\\n",
       "0             NaN              NaN         http://www.tasman.ca/   \n",
       "1             NaN              NaN    http://www.panadvisory.ca/   \n",
       "2          6000.0          60000.0  https://www.stewartkett.com/   \n",
       "\n",
       "                                               Notes  target_clients  \\\n",
       "0                                provinces unclear,              NaN   \n",
       "1                                                NaN             NaN   \n",
       "2  seems to charge as much as $60k per year so wo...             NaN   \n",
       "\n",
       "  province_of_residence    fee_model  \n",
       "0               Ontario  Advice-only  \n",
       "1      British Columbia  Advice-only  \n",
       "2               Ontario  Advice-only  "
      ]
     },
     "execution_count": 48,
     "metadata": {},
     "output_type": "execute_result"
    }
   ],
   "source": [
    "answer"
   ]
  },
  {
   "cell_type": "code",
   "execution_count": 104,
   "metadata": {},
   "outputs": [
    {
     "name": "stdout",
     "output_type": "stream",
     "text": [
      "Allan Buckingham serves Alberta.\n"
     ]
    }
   ],
   "source": [
    "print(answer)"
   ]
  },
  {
   "cell_type": "code",
   "execution_count": 23,
   "metadata": {},
   "outputs": [],
   "source": [
    "from pandasai import Agent"
   ]
  },
  {
   "cell_type": "code",
   "execution_count": 25,
   "metadata": {},
   "outputs": [],
   "source": [
    "agent = Agent([df], memory_size=10, config={\"llm\": llm})"
   ]
  },
  {
   "cell_type": "code",
   "execution_count": 30,
   "metadata": {},
   "outputs": [
    {
     "name": "stdout",
     "output_type": "stream",
     "text": [
      "{'type': 'string', 'value': 'The most expensive financial planner is Scott Robertson from Tasman Financial Services with a maximum fee of 30000.0.'}\n",
      "The most expensive financial planner is Scott Robertson from Tasman Financial Services with a maximum fee of 30000.0.\n"
     ]
    }
   ],
   "source": [
    "response = agent.chat(query)\n",
    "print(response)"
   ]
  },
  {
   "cell_type": "code",
   "execution_count": 28,
   "metadata": {},
   "outputs": [],
   "source": [
    "questions = agent.clarification_questions(query)"
   ]
  },
  {
   "cell_type": "code",
   "execution_count": 105,
   "metadata": {},
   "outputs": [
    {
     "data": {
      "text/plain": [
       "['What specific fee structure are you referring to (e.g., project fee, monthly fee, hourly fee)?',\n",
       " 'Are you looking for the highest fee among all planners or just within a specific province?',\n",
       " 'Do you want to include planners who are not currently taking clients?']"
      ]
     },
     "execution_count": 105,
     "metadata": {},
     "output_type": "execute_result"
    }
   ],
   "source": [
    "questions"
   ]
  },
  {
   "cell_type": "code",
   "execution_count": null,
   "metadata": {},
   "outputs": [],
   "source": []
  }
 ],
 "metadata": {
  "kernelspec": {
   "display_name": "planner_env",
   "language": "python",
   "name": "python3"
  },
  "language_info": {
   "codemirror_mode": {
    "name": "ipython",
    "version": 3
   },
   "file_extension": ".py",
   "mimetype": "text/x-python",
   "name": "python",
   "nbconvert_exporter": "python",
   "pygments_lexer": "ipython3",
   "version": "3.12.4"
  }
 },
 "nbformat": 4,
 "nbformat_minor": 2
}
